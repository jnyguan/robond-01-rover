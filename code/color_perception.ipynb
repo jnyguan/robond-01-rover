{
 "cells": [
  {
   "cell_type": "code",
   "execution_count": 10,
   "metadata": {},
   "outputs": [],
   "source": [
    "import numpy as np\n",
    "import cv2\n",
    "import matplotlib.pyplot as plt\n",
    "import matplotlib.image as mpimg\n",
    "%matplotlib inline"
   ]
  },
  {
   "cell_type": "code",
   "execution_count": 100,
   "metadata": {},
   "outputs": [],
   "source": [
    "def color_thresh(img, rgb_thresh=(160, 160, 160), \\\n",
    "                rock_thresh_min=(60,60,0), rock_thresh_max=(255,255,150)):\n",
    "\n",
    "    # Create an array of zeros same xy size as img\n",
    "    # obstacle, rock samples, and navigable terrain are on different channels\n",
    "\n",
    "    color_select_obstacle = np.zeros_like(img[:,:,0])   \n",
    "    color_select_rock = np.zeros_like(img[:,:,0])\n",
    "    color_select_nav = np.zeros_like(img[:,:,0])\n",
    "\n",
    "    # Require that each pixel be above all three threshold values in RGB\n",
    "    # above_thresh will now contain a boolean array with \"True\"\n",
    "    # where threshold was met\n",
    "    above_thresh = (img[:,:,0] > rgb_thresh[0]) \\\n",
    "                & (img[:,:,1] > rgb_thresh[1]) \\\n",
    "                & (img[:,:,2] > rgb_thresh[2])       \n",
    "            \n",
    "    above_thresh_obs = (img[:,:,0] < rgb_thresh[0]) \\\n",
    "                & (img[:,:,1] < rgb_thresh[1]) \\\n",
    "                & (img[:,:,2] < rgb_thresh[2]) \n",
    "            \n",
    "    above_thresh_rock = (img[:,:,0] > rock_thresh_min[0]) & (img[:,:,0] < rock_thresh_max[0]) \\\n",
    "                    & (img[:,:,1] > rock_thresh_min[1]) & (img[:,:,1] < rock_thresh_max[1]) \\\n",
    "                    & (img[:,:,2] > rock_thresh_min[2]) & (img[:,:,2] < rock_thresh_max[2])\\\n",
    "        \n",
    "\n",
    "    # Index the array of zeros with the boolean array and set to 1\n",
    "    color_select_obstacle[above_thresh_obs] = 1\n",
    "    color_select_rock[above_thresh_rock] = 1\n",
    "    color_select_nav[above_thresh] = 1\n",
    "    \n",
    "    print (above_thresh_rock)\n",
    "    \n",
    "    # Return the binary image\n",
    "    return color_select_obstacle, color_select_rock, color_select_nav"
   ]
  },
  {
   "cell_type": "code",
   "execution_count": 144,
   "metadata": {},
   "outputs": [
    {
     "name": "stdout",
     "output_type": "stream",
     "text": [
      "[[False False False ..., False False False]\n",
      " [False False False ..., False False False]\n",
      " [False False False ..., False False False]\n",
      " ..., \n",
      " [False False False ..., False False False]\n",
      " [False False False ..., False False False]\n",
      " [False False False ..., False False False]]\n",
      "[[False False False ..., False False False]\n",
      " [False False False ..., False False False]\n",
      " [False False False ..., False False False]\n",
      " ..., \n",
      " [False False False ..., False False False]\n",
      " [False False False ..., False False False]\n",
      " [False False False ..., False False False]]\n"
     ]
    },
    {
     "data": {
      "text/plain": [
       "<matplotlib.image.AxesImage at 0x1201185f8>"
      ]
     },
     "execution_count": 144,
     "metadata": {},
     "output_type": "execute_result"
    },
    {
     "data": {
      "image/png": "[encoded data removed]",
      "text/plain": [
       "<matplotlib.figure.Figure at 0x11ec12be0>"
      ]
     },
     "metadata": {},
     "output_type": "display_data"
    }
   ],
   "source": [
    "# samplefile = \"../calibration_images/color_calibration.jpg\"\n",
    "samplefile = \"../calibration_images/example_rock1.jpg\"\n",
    "samplefile2 = \"../calibration_images/example_rock2.jpg\"\n",
    "image1 = mpimg.imread(samplefile)\n",
    "image2 = mpimg.imread(samplefile2)\n",
    "\n",
    "rock_thresh_min = (50, 45, 0)\n",
    "rock_thresh_max = (255, 255, 35)\n",
    "rgb_thresh = (160, 160, 160)\n",
    "\n",
    "colorsel_obs, colorsel_rock1, \\\n",
    "    colorsel_nav = color_thresh(image1, rgb_thresh, \\\n",
    "                                rock_thresh_min, rock_thresh_max)\n",
    "    \n",
    "colorsel_obs, colorsel_rock2, \\\n",
    "    colorsel_nav = color_thresh(image2, rgb_thresh, \\\n",
    "                                rock_thresh_min, rock_thresh_max)\n",
    "    \n",
    "fig = plt.figure(figsize=(12,2))\n",
    "plt.subplot(121)\n",
    "plt.imshow(colorsel_rock1)\n",
    "plt.subplot(122)\n",
    "plt.imshow(colorsel_rock2)\n",
    "\n"
   ]
  },
  {
   "cell_type": "code",
   "execution_count": null,
   "metadata": {
    "collapsed": true
   },
   "outputs": [],
   "source": []
  },
  {
   "cell_type": "code",
   "execution_count": null,
   "metadata": {
    "collapsed": true
   },
   "outputs": [],
   "source": []
  }
 ],
 "metadata": {
  "kernelspec": {
   "display_name": "Python 3",
   "language": "python",
   "name": "python3"
  },
  "language_info": {
   "codemirror_mode": {
    "name": "ipython",
    "version": 3
   },
   "file_extension": ".py",
   "mimetype": "text/x-python",
   "name": "python",
   "nbconvert_exporter": "python",
   "pygments_lexer": "ipython3",
   "version": "3.5.2"
  },
  "widgets": {
   "state": {},
   "version": "1.1.2"
  }
 },
 "nbformat": 4,
 "nbformat_minor": 2
}
